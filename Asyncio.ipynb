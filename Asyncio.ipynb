{
 "cells": [
  {
   "cell_type": "code",
   "execution_count": 3,
   "metadata": {
    "collapsed": true
   },
   "outputs": [],
   "source": [
    "import time\n",
    "import asyncio"
   ]
  },
  {
   "cell_type": "code",
   "execution_count": 18,
   "metadata": {
    "collapsed": false
   },
   "outputs": [
    {
     "name": "stdout",
     "output_type": "stream",
     "text": [
      "Début get_me Sylvain \n",
      "Début get_me Éric \n",
      "Début get_me Matthieu \n",
      "Début get_me Gwendoline \n",
      "fin get_me Sylvain\n",
      "fin get_me Éric\n",
      "fin get_me Matthieu\n",
      "fin get_me Gwendoline\n"
     ]
    },
    {
     "data": {
      "text/plain": [
       "[None, None, None, None]"
      ]
     },
     "execution_count": 18,
     "metadata": {},
     "output_type": "execute_result"
    }
   ],
   "source": [
    "# Les fonctions précédées de 'async' sont les coroutines, anciennement décorées de @asyncio.coroutine\n",
    "\n",
    "async def get_me(name):\n",
    "    print('Début get_me %s ' % name)\n",
    "    await asyncio.sleep(2) # asyncio.sleep est une coroutine\n",
    "    print('fin get_me %s' % name)\n",
    "\n",
    "names = ['Sylvain', 'Matthieu', 'Éric', 'Gwendoline']\n",
    "    \n",
    "loop = asyncio.get_event_loop()\n",
    "\n",
    "loop.run_until_complete(asyncio.gather(*[get_me(name) for name in names]))"
   ]
  },
  {
   "cell_type": "code",
   "execution_count": 17,
   "metadata": {
    "collapsed": false
   },
   "outputs": [
    {
     "name": "stdout",
     "output_type": "stream",
     "text": [
      "Début get_me_coroutine Sylvain \n",
      "Début get_me_coroutine Matthieu Début get_me Sylvain \n",
      "Début get_me_coroutine Gwendoline \n",
      "Début get_me Matthieu \n",
      "\n",
      "Début get_me_coroutine Éric \n",
      "Début get_me Gwendoline \n",
      "Début get_me Éric \n",
      "fin get_me Éricfin get_me Gwendolinefin get_me Matthieufin get_me Sylvain\n",
      "\n",
      "\n",
      "fin get_me_coroutine Éric\n",
      "\n",
      "fin get_me_coroutine Gwendoline\n",
      "fin get_me_coroutine Matthieu\n",
      "fin get_me_coroutine Sylvain\n"
     ]
    },
    {
     "data": {
      "text/plain": [
       "['SylvainPLOOP', 'MatthieuPLOOP', 'ÉricPLOOP', 'GwendolinePLOOP']"
      ]
     },
     "execution_count": 17,
     "metadata": {},
     "output_type": "execute_result"
    }
   ],
   "source": [
    "# On se sert de loop.run_in_executor pour exécuter parralèlement des fonctions \n",
    "# qui ne sont pas initialement des coroutines\n",
    "\n",
    "loop = asyncio.get_event_loop()\n",
    "\n",
    "def get_me(name, suffix='Plop'):\n",
    "    print('Début get_me %s ' % name)\n",
    "    time.sleep(2)\n",
    "    print('fin get_me %s' % name)\n",
    "    return name + suffix\n",
    "\n",
    "async def get_me_coroutine(name):\n",
    "    print('Début get_me_coroutine %s ' % name)\n",
    "    new_name = await loop.run_in_executor(None, lambda: get_me(name, suffix='PLOOP'))\n",
    "    print('fin get_me_coroutine %s' % name)\n",
    "    return new_name\n",
    "\n",
    "names = ['Sylvain', 'Matthieu', 'Éric', 'Gwendoline']\n",
    "\n",
    "loop.run_until_complete(asyncio.gather(*[get_me_coroutine(name) for name in names]))"
   ]
  },
  {
   "cell_type": "code",
   "execution_count": 17,
   "metadata": {
    "collapsed": false
   },
   "outputs": [
    {
     "name": "stdout",
     "output_type": "stream",
     "text": [
      "4\n",
      "18\n",
      "10\n",
      "0.4\n",
      "0.25\n",
      "0.5\n",
      "5\n",
      "9\n",
      "7\n"
     ]
    },
    {
     "data": {
      "text/plain": [
       "[[4, 10, 18], [0.25, 0.4, 0.5], [5, 7, 9]]"
      ]
     },
     "execution_count": 17,
     "metadata": {},
     "output_type": "execute_result"
    }
   ],
   "source": [
    "# MARCHE PAS\n",
    "# Dans le cas où l'on a plusieurs niveaux de parrallélisation\n",
    "\n",
    "data = {\n",
    "    'Sylvain': [x + y for x, y in zip([1,2,3], [4,5,6])],\n",
    "    'Géralde': [x * y for x, y in zip([1,2,3], [4,5,6])],\n",
    "    'Antonin': [x / y for x, y in zip([1,2,3], [4,5,6])]\n",
    "}\n",
    "names = data.keys()\n",
    "\n",
    "loop = asyncio.get_event_loop()\n",
    "\n",
    "async def get_num(num):\n",
    "    print(num)\n",
    "    await asyncio.sleep(2)\n",
    "    return num\n",
    "\n",
    "def name_get_nums(name):\n",
    "    nums = data[name]\n",
    "    return asyncio.gather(*[get_num(num) for num in nums])\n",
    "    \n",
    "loop.run_until_complete(asyncio.gather(*[name_get_nums(name) for name in names]))"
   ]
  },
  {
   "cell_type": "code",
   "execution_count": null,
   "metadata": {
    "collapsed": true
   },
   "outputs": [],
   "source": []
  }
 ],
 "metadata": {
  "kernelspec": {
   "display_name": "Python 3",
   "language": "python",
   "name": "python3"
  },
  "language_info": {
   "codemirror_mode": {
    "name": "ipython",
    "version": 3
   },
   "file_extension": ".py",
   "mimetype": "text/x-python",
   "name": "python",
   "nbconvert_exporter": "python",
   "pygments_lexer": "ipython3",
   "version": "3.5.1"
  }
 },
 "nbformat": 4,
 "nbformat_minor": 2
}
