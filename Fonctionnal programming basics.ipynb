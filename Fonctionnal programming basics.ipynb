{
 "cells": [
  {
   "cell_type": "code",
   "execution_count": 10,
   "metadata": {
    "collapsed": false
   },
   "outputs": [
    {
     "name": "stdout",
     "output_type": "stream",
     "text": [
      "[{'active': False, 'country': 'Canada', 'name': 'Sunset Rubdown'}, {'active': False, 'country': 'Canada', 'name': 'Women'}, {'active': True, 'country': 'Canada', 'name': 'A Silver Mt Zion'}]\n"
     ]
    }
   ],
   "source": [
    "from functools import reduce\n",
    "\n",
    "def assoc(_d, key, value):\n",
    "    from copy import deepcopy\n",
    "    d = deepcopy(_d)\n",
    "    d[key] = value\n",
    "    return d\n",
    "\n",
    "def set_canada_as_country(band):\n",
    "    return assoc(band, 'country', \"Canada\")\n",
    "\n",
    "def strip_punctuation_from_name(band):\n",
    "    return assoc(band, 'name', band['name'].replace('.', ''))\n",
    "\n",
    "def capitalize_names(band):\n",
    "    return assoc(band, 'name', band['name'].title())\n",
    "\n",
    "bands = [{'name': 'sunset rubdown', 'country': 'UK', 'active': False},\n",
    "         {'name': 'women', 'country': 'Germany', 'active': False},\n",
    "         {'name': 'a silver mt. zion', 'country': 'Spain', 'active': True}]\n",
    "\n",
    "def pipeline_each(bands, rules):\n",
    "    return map(lambda b: reduce(lambda a, x: x(a), rules, b), bands)\n",
    "\n",
    "def pipeline_each(bands, rules):\n",
    "    return reduce(lambda a,x: map(x, a), rules, bands)\n",
    "\n",
    "print(list(pipeline_each(bands, [set_canada_as_country,\n",
    "                            strip_punctuation_from_name,\n",
    "                            capitalize_names])))"
   ]
  },
  {
   "cell_type": "code",
   "execution_count": null,
   "metadata": {
    "collapsed": true
   },
   "outputs": [],
   "source": []
  }
 ],
 "metadata": {
  "kernelspec": {
   "display_name": "Python 3",
   "language": "python",
   "name": "python3"
  },
  "language_info": {
   "codemirror_mode": {
    "name": "ipython",
    "version": 3
   },
   "file_extension": ".py",
   "mimetype": "text/x-python",
   "name": "python",
   "nbconvert_exporter": "python",
   "pygments_lexer": "ipython3",
   "version": "3.5.1"
  }
 },
 "nbformat": 4,
 "nbformat_minor": 2
}
