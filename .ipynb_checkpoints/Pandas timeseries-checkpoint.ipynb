{
 "cells": [
  {
   "cell_type": "code",
   "execution_count": 158,
   "metadata": {
    "collapsed": false,
    "deletable": true,
    "editable": true,
    "scrolled": true
   },
   "outputs": [
    {
     "data": {
      "text/html": [
       "<div>\n",
       "<table border=\"1\" class=\"dataframe\">\n",
       "  <thead>\n",
       "    <tr style=\"text-align: right;\">\n",
       "      <th></th>\n",
       "      <th>time</th>\n",
       "    </tr>\n",
       "    <tr>\n",
       "      <th>datetime</th>\n",
       "      <th></th>\n",
       "    </tr>\n",
       "  </thead>\n",
       "  <tbody>\n",
       "    <tr>\n",
       "      <th>2017-01-30 06:00:00</th>\n",
       "      <td>09:07:00</td>\n",
       "    </tr>\n",
       "    <tr>\n",
       "      <th>2017-02-01 07:00:00</th>\n",
       "      <td>01:03:00</td>\n",
       "    </tr>\n",
       "  </tbody>\n",
       "</table>\n",
       "</div>"
      ],
      "text/plain": [
       "                         time\n",
       "datetime                     \n",
       "2017-01-30 06:00:00  09:07:00\n",
       "2017-02-01 07:00:00  01:03:00"
      ]
     },
     "execution_count": 158,
     "metadata": {},
     "output_type": "execute_result"
    }
   ],
   "source": [
    "\"\"\"Bases sur les timeseries avec Pandas\n",
    "http://pandas.pydata.org/pandas-docs/stable/timeseries.html\n",
    "\"\"\"\n",
    "\n",
    "import pandas as pd\n",
    "import numpy as np\n",
    "from datetime import datetime, time\n",
    "import pytz\n",
    "\n",
    "fmt = '%Y-%m-%d %H:%M:%S %Z%z'\n",
    "\n",
    "data = pd.DataFrame({\n",
    "    'datetime': [datetime(2017, 1, 30, 6), datetime(2017, 2, 1, 7)],\n",
    "    'time': [time(9, 7), time(1,3)]\n",
    "})\n",
    "#data.index = data['datetime']\n",
    "data = data.set_index(['datetime'])\n",
    "data"
   ]
  },
  {
   "cell_type": "code",
   "execution_count": 123,
   "metadata": {
    "collapsed": false,
    "deletable": true,
    "editable": true
   },
   "outputs": [
    {
     "data": {
      "text/html": [
       "<div>\n",
       "<table border=\"1\" class=\"dataframe\">\n",
       "  <thead>\n",
       "    <tr style=\"text-align: right;\">\n",
       "      <th></th>\n",
       "      <th>value</th>\n",
       "    </tr>\n",
       "  </thead>\n",
       "  <tbody>\n",
       "    <tr>\n",
       "      <th>2016-01-01 00:00:00</th>\n",
       "      <td>0.561283</td>\n",
       "    </tr>\n",
       "    <tr>\n",
       "      <th>2016-01-01 01:00:00</th>\n",
       "      <td>-0.244509</td>\n",
       "    </tr>\n",
       "    <tr>\n",
       "      <th>2016-01-01 02:00:00</th>\n",
       "      <td>-0.307096</td>\n",
       "    </tr>\n",
       "    <tr>\n",
       "      <th>2016-01-01 03:00:00</th>\n",
       "      <td>1.013474</td>\n",
       "    </tr>\n",
       "    <tr>\n",
       "      <th>2016-01-01 04:00:00</th>\n",
       "      <td>-0.730406</td>\n",
       "    </tr>\n",
       "    <tr>\n",
       "      <th>2016-01-01 05:00:00</th>\n",
       "      <td>-1.325198</td>\n",
       "    </tr>\n",
       "    <tr>\n",
       "      <th>2016-01-01 06:00:00</th>\n",
       "      <td>0.809758</td>\n",
       "    </tr>\n",
       "    <tr>\n",
       "      <th>2016-01-01 07:00:00</th>\n",
       "      <td>-0.749655</td>\n",
       "    </tr>\n",
       "    <tr>\n",
       "      <th>2016-01-01 08:00:00</th>\n",
       "      <td>0.087333</td>\n",
       "    </tr>\n",
       "    <tr>\n",
       "      <th>2016-01-01 09:00:00</th>\n",
       "      <td>2.566552</td>\n",
       "    </tr>\n",
       "  </tbody>\n",
       "</table>\n",
       "</div>"
      ],
      "text/plain": [
       "                        value\n",
       "2016-01-01 00:00:00  0.561283\n",
       "2016-01-01 01:00:00 -0.244509\n",
       "2016-01-01 02:00:00 -0.307096\n",
       "2016-01-01 03:00:00  1.013474\n",
       "2016-01-01 04:00:00 -0.730406\n",
       "2016-01-01 05:00:00 -1.325198\n",
       "2016-01-01 06:00:00  0.809758\n",
       "2016-01-01 07:00:00 -0.749655\n",
       "2016-01-01 08:00:00  0.087333\n",
       "2016-01-01 09:00:00  2.566552"
      ]
     },
     "execution_count": 123,
     "metadata": {},
     "output_type": "execute_result"
    }
   ],
   "source": [
    "# Pandas est utile pour traiter les problèmes de timeseries puisqu'il est possible \n",
    "# de générer des dates à une fréquence donnée\n",
    "dt_index = pd.date_range('01-01-2016', periods=10, freq='H')\n",
    "dt_index\n",
    "\n",
    "# date_range retourne un objet de type DatetimeIndex\n",
    "# cet objet peut-être utilisé pour construire un DataFrame\n",
    "data = pd.DataFrame({'value': np.random.randn(len(dt_index))}, index=dt_index)\n",
    "data"
   ]
  },
  {
   "cell_type": "code",
   "execution_count": 124,
   "metadata": {
    "collapsed": false,
    "deletable": true,
    "editable": true
   },
   "outputs": [
    {
     "data": {
      "text/plain": [
       "DatetimeIndex(['2016-01-01 00:00:00', '2016-01-01 00:01:00',\n",
       "               '2016-01-01 00:02:00', '2016-01-01 00:03:00',\n",
       "               '2016-01-01 00:04:00', '2016-01-01 00:05:00',\n",
       "               '2016-01-01 00:06:00', '2016-01-01 00:07:00',\n",
       "               '2016-01-01 00:08:00', '2016-01-01 00:09:00',\n",
       "               ...\n",
       "               '2016-01-31 23:51:00', '2016-01-31 23:52:00',\n",
       "               '2016-01-31 23:53:00', '2016-01-31 23:54:00',\n",
       "               '2016-01-31 23:55:00', '2016-01-31 23:56:00',\n",
       "               '2016-01-31 23:57:00', '2016-01-31 23:58:00',\n",
       "               '2016-01-31 23:59:00', '2016-02-01 00:00:00'],\n",
       "              dtype='datetime64[ns]', length=44641, freq='T')"
      ]
     },
     "execution_count": 124,
     "metadata": {},
     "output_type": "execute_result"
    }
   ],
   "source": [
    "# En ayant une date de début et de fin:\n",
    "pd.date_range(datetime(2016, 1, 1), datetime(2016, 2, 1), freq='Min')"
   ]
  },
  {
   "cell_type": "code",
   "execution_count": 125,
   "metadata": {
    "collapsed": false,
    "deletable": true,
    "editable": true
   },
   "outputs": [
    {
     "data": {
      "text/plain": [
       "DatetimeIndex(['2016-01-01'], dtype='datetime64[ns]', freq='T')"
      ]
     },
     "execution_count": 125,
     "metadata": {},
     "output_type": "execute_result"
    }
   ],
   "source": [
    "# En ayant une date de début et de fin:\n",
    "pd.date_range('2016-1-1', '2016-1-1', freq='Min')"
   ]
  },
  {
   "cell_type": "code",
   "execution_count": 126,
   "metadata": {
    "collapsed": false,
    "deletable": true,
    "editable": true,
    "scrolled": true
   },
   "outputs": [
    {
     "data": {
      "text/html": [
       "<div>\n",
       "<table border=\"1\" class=\"dataframe\">\n",
       "  <thead>\n",
       "    <tr style=\"text-align: right;\">\n",
       "      <th></th>\n",
       "      <th>value</th>\n",
       "    </tr>\n",
       "  </thead>\n",
       "  <tbody>\n",
       "    <tr>\n",
       "      <th>2016-01-01 00:00:00</th>\n",
       "      <td>0.561283</td>\n",
       "    </tr>\n",
       "    <tr>\n",
       "      <th>2016-01-01 00:45:00</th>\n",
       "      <td>0.561283</td>\n",
       "    </tr>\n",
       "    <tr>\n",
       "      <th>2016-01-01 01:30:00</th>\n",
       "      <td>-0.244509</td>\n",
       "    </tr>\n",
       "    <tr>\n",
       "      <th>2016-01-01 02:15:00</th>\n",
       "      <td>-0.307096</td>\n",
       "    </tr>\n",
       "    <tr>\n",
       "      <th>2016-01-01 03:00:00</th>\n",
       "      <td>1.013474</td>\n",
       "    </tr>\n",
       "    <tr>\n",
       "      <th>2016-01-01 03:45:00</th>\n",
       "      <td>1.013474</td>\n",
       "    </tr>\n",
       "    <tr>\n",
       "      <th>2016-01-01 04:30:00</th>\n",
       "      <td>-0.730406</td>\n",
       "    </tr>\n",
       "    <tr>\n",
       "      <th>2016-01-01 05:15:00</th>\n",
       "      <td>-1.325198</td>\n",
       "    </tr>\n",
       "    <tr>\n",
       "      <th>2016-01-01 06:00:00</th>\n",
       "      <td>0.809758</td>\n",
       "    </tr>\n",
       "    <tr>\n",
       "      <th>2016-01-01 06:45:00</th>\n",
       "      <td>0.809758</td>\n",
       "    </tr>\n",
       "    <tr>\n",
       "      <th>2016-01-01 07:30:00</th>\n",
       "      <td>-0.749655</td>\n",
       "    </tr>\n",
       "    <tr>\n",
       "      <th>2016-01-01 08:15:00</th>\n",
       "      <td>0.087333</td>\n",
       "    </tr>\n",
       "    <tr>\n",
       "      <th>2016-01-01 09:00:00</th>\n",
       "      <td>2.566552</td>\n",
       "    </tr>\n",
       "  </tbody>\n",
       "</table>\n",
       "</div>"
      ],
      "text/plain": [
       "                        value\n",
       "2016-01-01 00:00:00  0.561283\n",
       "2016-01-01 00:45:00  0.561283\n",
       "2016-01-01 01:30:00 -0.244509\n",
       "2016-01-01 02:15:00 -0.307096\n",
       "2016-01-01 03:00:00  1.013474\n",
       "2016-01-01 03:45:00  1.013474\n",
       "2016-01-01 04:30:00 -0.730406\n",
       "2016-01-01 05:15:00 -1.325198\n",
       "2016-01-01 06:00:00  0.809758\n",
       "2016-01-01 06:45:00  0.809758\n",
       "2016-01-01 07:30:00 -0.749655\n",
       "2016-01-01 08:15:00  0.087333\n",
       "2016-01-01 09:00:00  2.566552"
      ]
     },
     "execution_count": 126,
     "metadata": {},
     "output_type": "execute_result"
    }
   ],
   "source": [
    "# Il est possible de faire du \"sampling\" en modifiant la fréquence et en remplissant\n",
    "# les trous qui apparaissent avec:\n",
    "# method='ffill' pour fastforward fill (prend la valeur la plus proche avant)\n",
    "data = data.asfreq('45Min', method='ffill')\n",
    "data"
   ]
  },
  {
   "cell_type": "code",
   "execution_count": 127,
   "metadata": {
    "collapsed": false,
    "deletable": true,
    "editable": true,
    "scrolled": false
   },
   "outputs": [
    {
     "data": {
      "text/html": [
       "<div>\n",
       "<table border=\"1\" class=\"dataframe\">\n",
       "  <thead>\n",
       "    <tr style=\"text-align: right;\">\n",
       "      <th></th>\n",
       "      <th>value</th>\n",
       "    </tr>\n",
       "  </thead>\n",
       "  <tbody>\n",
       "    <tr>\n",
       "      <th>2016-01-01 00:00:00</th>\n",
       "      <td>0.561283</td>\n",
       "    </tr>\n",
       "    <tr>\n",
       "      <th>2016-01-01 00:15:00</th>\n",
       "      <td>NaN</td>\n",
       "    </tr>\n",
       "    <tr>\n",
       "      <th>2016-01-01 00:30:00</th>\n",
       "      <td>NaN</td>\n",
       "    </tr>\n",
       "    <tr>\n",
       "      <th>2016-01-01 00:45:00</th>\n",
       "      <td>0.561283</td>\n",
       "    </tr>\n",
       "    <tr>\n",
       "      <th>2016-01-01 01:00:00</th>\n",
       "      <td>NaN</td>\n",
       "    </tr>\n",
       "  </tbody>\n",
       "</table>\n",
       "</div>"
      ],
      "text/plain": [
       "                        value\n",
       "2016-01-01 00:00:00  0.561283\n",
       "2016-01-01 00:15:00       NaN\n",
       "2016-01-01 00:30:00       NaN\n",
       "2016-01-01 00:45:00  0.561283\n",
       "2016-01-01 01:00:00       NaN"
      ]
     },
     "execution_count": 127,
     "metadata": {},
     "output_type": "execute_result"
    }
   ],
   "source": [
    "# Il est possible de diminuer / augmenter la fréquencence et d'appliquer une fonction d'aggrégation\n",
    "\n",
    "# On fait une moyenne à l'heure\n",
    "data.resample('H').mean().head()\n",
    "\n",
    "# On fait une moyenne au quart d'heure\n",
    "# puisque la fréquence était supérieure au quart d'heure, des trous apparaissent avec les valeurs NaN\n",
    "# certaines moyennes sont impossibles et on obtient des NaN\n",
    "# il faut faire attention à l'augmentation de la fréquence\n",
    "# toujours faire un asfreq('X', method='ffill')\n",
    "data.resample('15Min').mean().head()"
   ]
  },
  {
   "cell_type": "code",
   "execution_count": 128,
   "metadata": {
    "collapsed": false,
    "deletable": true,
    "editable": true
   },
   "outputs": [
    {
     "data": {
      "text/plain": [
       "Period('0001-01-01 00:00', 'H')"
      ]
     },
     "execution_count": 128,
     "metadata": {},
     "output_type": "execute_result"
    }
   ],
   "source": [
    "# Timestamp représente un point de temps simple\n",
    "pd.Timestamp('2016-01-01 07:30:45')\n",
    "\n",
    "# Period représente des intervalles de temps, et donc est forcémment associté à la fréquence\n",
    "pd.Period('00:00:00', freq='H') # intervalle d'heure commençant à minuit"
   ]
  },
  {
   "cell_type": "code",
   "execution_count": 129,
   "metadata": {
    "collapsed": false,
    "deletable": true,
    "editable": true
   },
   "outputs": [
    {
     "data": {
      "text/plain": [
       "Timestamp('2016-01-01 00:00:00')"
      ]
     },
     "execution_count": 129,
     "metadata": {},
     "output_type": "execute_result"
    }
   ],
   "source": [
    "pd.to_datetime('01-01-2016') # moyen de générer un objet Pandas.Timestamp\n",
    "pd.Timestamp('01-01-2016') # équivalent\n",
    "pd.Timestamp(2016, 1, 1) # équivalent\n",
    "pd.Timestamp(datetime(2016, 1, 1)) # équivalent"
   ]
  },
  {
   "cell_type": "code",
   "execution_count": 130,
   "metadata": {
    "collapsed": false,
    "deletable": true,
    "editable": true,
    "scrolled": true
   },
   "outputs": [
    {
     "data": {
      "text/plain": [
       "Period('2016-01-01 00:00', 'T')"
      ]
     },
     "execution_count": 130,
     "metadata": {},
     "output_type": "execute_result"
    }
   ],
   "source": [
    "# détecte automatiquement la fréquence (plus petite métrique temporelle passée à la construction)\n",
    "pd.Period('01-01-2016 01:01:01')\n",
    "\n",
    "# on fixe la fréquence (dans ce cas plus grande que la minute, donc ne tiendra pas en compte les minutes\n",
    "pd.Period('01-01-2016 01:01:01', freq='D')\n",
    "\n",
    "# fixe une fréquence plus faible et donc descend en granularité\n",
    "pd.Period('01-01-2016', freq='Min')"
   ]
  },
  {
   "cell_type": "code",
   "execution_count": 131,
   "metadata": {
    "collapsed": false,
    "deletable": true,
    "editable": true
   },
   "outputs": [
    {
     "data": {
      "text/html": [
       "<div>\n",
       "<table border=\"1\" class=\"dataframe\">\n",
       "  <thead>\n",
       "    <tr style=\"text-align: right;\">\n",
       "      <th></th>\n",
       "      <th>day</th>\n",
       "      <th>hour</th>\n",
       "      <th>month</th>\n",
       "      <th>year</th>\n",
       "    </tr>\n",
       "  </thead>\n",
       "  <tbody>\n",
       "    <tr>\n",
       "      <th>0</th>\n",
       "      <td>4</td>\n",
       "      <td>2</td>\n",
       "      <td>2</td>\n",
       "      <td>2015</td>\n",
       "    </tr>\n",
       "    <tr>\n",
       "      <th>1</th>\n",
       "      <td>5</td>\n",
       "      <td>3</td>\n",
       "      <td>3</td>\n",
       "      <td>2016</td>\n",
       "    </tr>\n",
       "  </tbody>\n",
       "</table>\n",
       "</div>"
      ],
      "text/plain": [
       "   day  hour  month  year\n",
       "0    4     2      2  2015\n",
       "1    5     3      3  2016"
      ]
     },
     "execution_count": 131,
     "metadata": {},
     "output_type": "execute_result"
    }
   ],
   "source": [
    "df = pd.DataFrame({'year': [2015, 2016],\n",
    "               'month': [2, 3],\n",
    "                    'day': [4, 5],\n",
    "                     'hour': [2, 3]})\n",
    "df"
   ]
  },
  {
   "cell_type": "code",
   "execution_count": 132,
   "metadata": {
    "collapsed": false,
    "deletable": true,
    "editable": true
   },
   "outputs": [
    {
     "data": {
      "text/plain": [
       "(0   2015-02-04 02:00:00\n",
       " 1   2016-03-05 03:00:00\n",
       " dtype: datetime64[ns], pandas.core.series.Series)"
      ]
     },
     "execution_count": 132,
     "metadata": {},
     "output_type": "execute_result"
    }
   ],
   "source": [
    "pd.to_datetime(df), type(pd.to_datetime(df))"
   ]
  },
  {
   "cell_type": "code",
   "execution_count": 133,
   "metadata": {
    "collapsed": false,
    "deletable": true,
    "editable": true
   },
   "outputs": [
    {
     "data": {
      "text/plain": [
       "Timestamp('2012-10-08 18:15:05')"
      ]
     },
     "execution_count": 133,
     "metadata": {},
     "output_type": "execute_result"
    }
   ],
   "source": [
    "# par défaut les timestamps utilisés par Timestamp sont en nanoseconds\n",
    "# d'où datetime64[ns] dans le dtype des columns\n",
    "\n",
    "pd.to_datetime(1349720105, unit='s')"
   ]
  },
  {
   "cell_type": "code",
   "execution_count": 134,
   "metadata": {
    "collapsed": false,
    "deletable": true,
    "editable": true
   },
   "outputs": [
    {
     "data": {
      "text/plain": [
       "'2012-10-08 18:15:05 '"
      ]
     },
     "execution_count": 134,
     "metadata": {},
     "output_type": "execute_result"
    }
   ],
   "source": [
    "# to_datetime avec un timestamp agit comme datetime.utcfromdatetime()\n",
    "# cad qu'il fait comme si sa timezone était à UTC+0000\n",
    "datetime.utcfromtimestamp(1349720105).strftime('%Y-%m-%d %H:%M:%S %z%Z')"
   ]
  },
  {
   "cell_type": "code",
   "execution_count": 135,
   "metadata": {
    "collapsed": false,
    "deletable": true,
    "editable": true
   },
   "outputs": [
    {
     "data": {
      "text/plain": [
       "DatetimeIndex(['2016-01-01 00:00:00', '2016-01-01 00:01:00',\n",
       "               '2016-01-01 00:02:00', '2016-01-01 00:03:00',\n",
       "               '2016-01-01 00:04:00', '2016-01-01 00:05:00',\n",
       "               '2016-01-01 00:06:00', '2016-01-01 00:07:00',\n",
       "               '2016-01-01 00:08:00', '2016-01-01 00:09:00'],\n",
       "              dtype='datetime64[ns]', freq='T')"
      ]
     },
     "execution_count": 135,
     "metadata": {},
     "output_type": "execute_result"
    }
   ],
   "source": [
    "pd.date_range('2016-1-1', periods=10, freq='T')"
   ]
  },
  {
   "cell_type": "code",
   "execution_count": 143,
   "metadata": {
    "collapsed": false,
    "deletable": true,
    "editable": true
   },
   "outputs": [
    {
     "data": {
      "text/plain": [
       "DatetimeIndex(['2016-01-01 06:00:00+01:00', '2016-01-01 07:00:00+01:00',\n",
       "               '2016-01-01 08:00:00+01:00', '2016-01-01 09:00:00+01:00',\n",
       "               '2016-01-01 10:00:00+01:00', '2016-01-01 11:00:00+01:00',\n",
       "               '2016-01-01 12:00:00+01:00', '2016-01-01 13:00:00+01:00',\n",
       "               '2016-01-01 14:00:00+01:00', '2016-01-01 15:00:00+01:00'],\n",
       "              dtype='datetime64[ns, Europe/Paris]', freq='H')"
      ]
     },
     "execution_count": 143,
     "metadata": {},
     "output_type": "execute_result"
    }
   ],
   "source": [
    "# Créer une time series timezone aware en utiliant pytz\n",
    "times_tz_aware = pd.date_range('2016-1-1 06:00:00', periods=10, freq='H', tz=pytz.timezone('Europe/Paris'))\n",
    "times_tz_aware"
   ]
  },
  {
   "cell_type": "code",
   "execution_count": 147,
   "metadata": {
    "collapsed": false,
    "deletable": true,
    "editable": true
   },
   "outputs": [
    {
     "data": {
      "text/plain": [
       "DatetimeIndex(['2016-01-01 06:00:00', '2016-01-01 07:00:00',\n",
       "               '2016-01-01 08:00:00', '2016-01-01 09:00:00',\n",
       "               '2016-01-01 10:00:00', '2016-01-01 11:00:00',\n",
       "               '2016-01-01 12:00:00', '2016-01-01 13:00:00',\n",
       "               '2016-01-01 14:00:00', '2016-01-01 15:00:00'],\n",
       "              dtype='datetime64[ns]', freq='H')"
      ]
     },
     "execution_count": 147,
     "metadata": {},
     "output_type": "execute_result"
    }
   ],
   "source": [
    "# Si on a déjà un objet DatetimeIndex\n",
    "times_tz_unaware = pd.date_range('2016-1-1 06:00:00', periods=10, freq='H')\n",
    "times_tz_unaware"
   ]
  },
  {
   "cell_type": "code",
   "execution_count": 148,
   "metadata": {
    "collapsed": false,
    "deletable": true,
    "editable": true
   },
   "outputs": [
    {
     "data": {
      "text/plain": [
       "DatetimeIndex(['2016-01-01 06:00:00+01:00', '2016-01-01 07:00:00+01:00',\n",
       "               '2016-01-01 08:00:00+01:00', '2016-01-01 09:00:00+01:00',\n",
       "               '2016-01-01 10:00:00+01:00', '2016-01-01 11:00:00+01:00',\n",
       "               '2016-01-01 12:00:00+01:00', '2016-01-01 13:00:00+01:00',\n",
       "               '2016-01-01 14:00:00+01:00', '2016-01-01 15:00:00+01:00'],\n",
       "              dtype='datetime64[ns, Europe/Paris]', freq='H')"
      ]
     },
     "execution_count": 148,
     "metadata": {},
     "output_type": "execute_result"
    }
   ],
   "source": [
    "# on peut set la timezone avec tz_localize\n",
    "times_tz_unaware.tz_localize('Europe/Paris')"
   ]
  },
  {
   "cell_type": "code",
   "execution_count": 149,
   "metadata": {
    "collapsed": false,
    "deletable": true,
    "editable": true
   },
   "outputs": [
    {
     "data": {
      "text/plain": [
       "2016-01-01 06:00:00   -0.648300\n",
       "2016-01-01 07:00:00    0.206879\n",
       "2016-01-01 08:00:00    1.018027\n",
       "2016-01-01 09:00:00   -0.436701\n",
       "2016-01-01 10:00:00    2.407222\n",
       "2016-01-01 11:00:00   -1.116102\n",
       "2016-01-01 12:00:00   -0.593252\n",
       "2016-01-01 13:00:00    1.617056\n",
       "2016-01-01 14:00:00    2.032795\n",
       "2016-01-01 15:00:00    0.526871\n",
       "Freq: H, dtype: float64"
      ]
     },
     "execution_count": 149,
     "metadata": {},
     "output_type": "execute_result"
    }
   ],
   "source": [
    "# si on a déjà un objet (DataFrame/Series) ayant comme index un DatetimeIndex\n",
    "series = pd.Series(np.random.randn(len(times)), index=times_tz_unaware)\n",
    "series"
   ]
  },
  {
   "cell_type": "code",
   "execution_count": 153,
   "metadata": {
    "collapsed": false,
    "deletable": true,
    "editable": true
   },
   "outputs": [
    {
     "data": {
      "text/plain": [
       "2016-01-01 06:00:00+01:00   -0.648300\n",
       "2016-01-01 07:00:00+01:00    0.206879\n",
       "2016-01-01 08:00:00+01:00    1.018027\n",
       "2016-01-01 09:00:00+01:00   -0.436701\n",
       "2016-01-01 10:00:00+01:00    2.407222\n",
       "2016-01-01 11:00:00+01:00   -1.116102\n",
       "2016-01-01 12:00:00+01:00   -0.593252\n",
       "2016-01-01 13:00:00+01:00    1.617056\n",
       "2016-01-01 14:00:00+01:00    2.032795\n",
       "2016-01-01 15:00:00+01:00    0.526871\n",
       "Freq: H, dtype: float64"
      ]
     },
     "execution_count": 153,
     "metadata": {},
     "output_type": "execute_result"
    }
   ],
   "source": [
    "# on peut utiliser tz_localize() sur ce macro objet\n",
    "# son index subira le tz_localize\n",
    "series = series.tz_localize('Europe/Paris')\n",
    "series"
   ]
  },
  {
   "cell_type": "code",
   "execution_count": 154,
   "metadata": {
    "collapsed": false,
    "deletable": true,
    "editable": true
   },
   "outputs": [
    {
     "data": {
      "text/plain": [
       "2016-01-01 00:00:00-05:00   -0.648300\n",
       "2016-01-01 01:00:00-05:00    0.206879\n",
       "2016-01-01 02:00:00-05:00    1.018027\n",
       "2016-01-01 03:00:00-05:00   -0.436701\n",
       "2016-01-01 04:00:00-05:00    2.407222\n",
       "2016-01-01 05:00:00-05:00   -1.116102\n",
       "2016-01-01 06:00:00-05:00   -0.593252\n",
       "2016-01-01 07:00:00-05:00    1.617056\n",
       "2016-01-01 08:00:00-05:00    2.032795\n",
       "2016-01-01 09:00:00-05:00    0.526871\n",
       "Freq: H, dtype: float64"
      ]
     },
     "execution_count": 154,
     "metadata": {},
     "output_type": "execute_result"
    }
   ],
   "source": [
    "# si on veut changer la timezone, utiliser tz_convert\n",
    "series.tz_convert('US/Eastern')"
   ]
  },
  {
   "cell_type": "code",
   "execution_count": 193,
   "metadata": {
    "collapsed": false
   },
   "outputs": [
    {
     "data": {
      "text/plain": [
       "(Timestamp('2016-12-01 14:19:20+0100', tz='Europe/Paris'), 1480598360000000000)"
      ]
     },
     "execution_count": 193,
     "metadata": {},
     "output_type": "execute_result"
    }
   ],
   "source": [
    "# datetime avec timezone\n",
    "# puis convertion en pd.Timestamp\n",
    "# puis insertion dans une pd.Series\n",
    "time = \"01.12.2016 14:19:20\"\n",
    "dt = pytz.timezone('Europe/Paris').localize(datetime.strptime(time, \"%d.%m.%Y %H:%M:%S\"))\n",
    "row = pd.Series({'datetime': pd.Timestamp(dt), 'test': 1}) # pas erreur\n",
    "row['datetimebis'] = pd.Timestamp(dt) # erreur\n",
    "row['datetime'], row['datetimebis']"
   ]
  },
  {
   "cell_type": "code",
   "execution_count": null,
   "metadata": {
    "collapsed": true
   },
   "outputs": [],
   "source": []
  }
 ],
 "metadata": {
  "kernelspec": {
   "display_name": "Python 3",
   "language": "python",
   "name": "python3"
  },
  "language_info": {
   "codemirror_mode": {
    "name": "ipython",
    "version": 3
   },
   "file_extension": ".py",
   "mimetype": "text/x-python",
   "name": "python",
   "nbconvert_exporter": "python",
   "pygments_lexer": "ipython3",
   "version": "3.5.1"
  }
 },
 "nbformat": 4,
 "nbformat_minor": 2
}
