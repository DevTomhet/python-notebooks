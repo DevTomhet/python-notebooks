{
 "cells": [
  {
   "cell_type": "code",
   "execution_count": 14,
   "metadata": {
    "collapsed": false
   },
   "outputs": [
    {
     "name": "stdout",
     "output_type": "stream",
     "text": [
      "empty list\n",
      "l is None\n",
      "h is not None\n"
     ]
    }
   ],
   "source": [
    "# Check whether or not a list is empty\n",
    "l = []\n",
    "if not l:\n",
    "    print('empty list')\n",
    "    \n",
    "# Check whether or not an object is None\n",
    "l, h = None, 'not None'\n",
    "if l is None:\n",
    "    print('l is None')\n",
    "if h is not None:\n",
    "    print('h is not None')"
   ]
  },
  {
   "cell_type": "code",
   "execution_count": 13,
   "metadata": {
    "collapsed": false
   },
   "outputs": [
    {
     "name": "stdout",
     "output_type": "stream",
     "text": [
      "age 17\n",
      "name sylvain\n"
     ]
    }
   ],
   "source": [
    "# Iterate through a dictionnary\n",
    "d = {'name': 'sylvain', 'age': 17}\n",
    "for index, value in d.items():\n",
    "    print(index, value)"
   ]
  },
  {
   "cell_type": "code",
   "execution_count": null,
   "metadata": {
    "collapsed": true
   },
   "outputs": [],
   "source": []
  }
 ],
 "metadata": {
  "kernelspec": {
   "display_name": "Python 3",
   "language": "python",
   "name": "python3"
  },
  "language_info": {
   "codemirror_mode": {
    "name": "ipython",
    "version": 3
   },
   "file_extension": ".py",
   "mimetype": "text/x-python",
   "name": "python",
   "nbconvert_exporter": "python",
   "pygments_lexer": "ipython3",
   "version": "3.5.1"
  }
 },
 "nbformat": 4,
 "nbformat_minor": 2
}
