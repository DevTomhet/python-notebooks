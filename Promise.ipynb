{
 "cells": [
  {
   "cell_type": "code",
   "execution_count": 91,
   "metadata": {
    "collapsed": true
   },
   "outputs": [],
   "source": [
    "from promise import Promise\n",
    "import time"
   ]
  },
  {
   "cell_type": "code",
   "execution_count": 98,
   "metadata": {
    "collapsed": false
   },
   "outputs": [
    {
     "name": "stdout",
     "output_type": "stream",
     "text": [
      "enclenchement...\n",
      "fin\n",
      "c bon\n",
      "enclenchement...\n",
      "fin\n",
      "c bon\n"
     ]
    },
    {
     "data": {
      "text/plain": [
       "<Promise at 0x1089b2a90 fulfilled with None>"
      ]
     },
     "execution_count": 98,
     "metadata": {},
     "output_type": "execute_result"
    }
   ],
   "source": [
    "def fn(resolve, reject):\n",
    "    print('enclenchement...')\n",
    "    time.sleep(2)\n",
    "    print('fin')\n",
    "    resolve('c bon')\n",
    "    \n",
    "promise = Promise(fn).then(lambda x: print(x)).catch(lambda x: print('erreur!'))"
   ]
  },
  {
   "cell_type": "code",
   "execution_count": 100,
   "metadata": {
    "collapsed": false
   },
   "outputs": [
    {
     "name": "stdout",
     "output_type": "stream",
     "text": [
      "enclenchement...\n",
      "fin\n",
      "enclenchement...\n",
      "fin\n",
      "enclenchement...\n",
      "fin\n",
      "['1', '2', 'c bon', 'c bon', 'c bon']\n",
      "ce code est exécuté quand la promise aura été résolue\n"
     ]
    }
   ],
   "source": [
    "p = Promise.all([Promise.resolve('1'), '2', Promise(fn), Promise(fn), Promise(fn)]) \\\n",
    ".then(lambda x: print(x))\n",
    "\n",
    "print('ce code est exécuté quand la promise aura été résolue')"
   ]
  },
  {
   "cell_type": "code",
   "execution_count": null,
   "metadata": {
    "collapsed": true
   },
   "outputs": [],
   "source": []
  },
  {
   "cell_type": "code",
   "execution_count": null,
   "metadata": {
    "collapsed": true
   },
   "outputs": [],
   "source": []
  }
 ],
 "metadata": {
  "kernelspec": {
   "display_name": "Python 3",
   "language": "python",
   "name": "python3"
  },
  "language_info": {
   "codemirror_mode": {
    "name": "ipython",
    "version": 3
   },
   "file_extension": ".py",
   "mimetype": "text/x-python",
   "name": "python",
   "nbconvert_exporter": "python",
   "pygments_lexer": "ipython3",
   "version": "3.5.1"
  }
 },
 "nbformat": 4,
 "nbformat_minor": 2
}
