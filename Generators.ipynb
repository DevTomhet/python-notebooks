{
 "cells": [
  {
   "cell_type": "code",
   "execution_count": 26,
   "metadata": {
    "collapsed": false
   },
   "outputs": [],
   "source": [
    "def gen():\n",
    "    \"\"\"Retourne un generator grâce au mot-clé yield.\n",
    "        \n",
    "        Les generators sont plus utiles que les listes dans le cas où l'on a beaucoup de données.\n",
    "        Une liste va stocker en mémoire chaque élément.\n",
    "        Un generator va générer chaque élément à chaque itération faite sur le generator.\n",
    "        En data science, il vaut mieux utiliser des generator si l'on a beaucoup de données.\n",
    "        En revanche, si la génération de chaque élément coûte plus cher que le stockage, il vaut mieux utiliser une liste.\n",
    "    \n",
    "        A relire pour comprendre:\n",
    "        http://stackoverflow.com/documentation/python/292/generators#t=201704050711009912306\n",
    "    \"\"\"\n",
    "    print('-- début --')\n",
    "    for x in range(3):\n",
    "        if x % 2 == 0:\n",
    "            yield 'pair'         # valeur retournée à chaque itération. Reste bloqué ici jusqu'au prochain next()\n",
    "            yield 'après pair'\n",
    "        else:\n",
    "            yield 'impair'\n",
    "            yield 'après impair'\n",
    "        print('après tout')\n",
    "    print('-- fin --')\n",
    "           "
   ]
  },
  {
   "cell_type": "code",
   "execution_count": 27,
   "metadata": {
    "collapsed": true
   },
   "outputs": [],
   "source": [
    "g = gen() # une fois que g sera complètement itéré, on ne pourra plus le réutiliser (car totalement consommé)\n",
    "          # il faudra faire un nouvel appel à gen, par ex g2 = gen()"
   ]
  },
  {
   "cell_type": "code",
   "execution_count": 28,
   "metadata": {
    "collapsed": false
   },
   "outputs": [
    {
     "name": "stdout",
     "output_type": "stream",
     "text": [
      "-- début --\n",
      "pair\n",
      "done\n",
      "après pair\n",
      "done\n",
      "après tout\n",
      "impair\n",
      "done\n",
      "après impair\n",
      "done\n",
      "après tout\n",
      "pair\n",
      "done\n",
      "après pair\n",
      "done\n",
      "après tout\n",
      "-- fin --\n"
     ]
    }
   ],
   "source": [
    "for y in g:\n",
    "    print(y)\n",
    "    print('done')"
   ]
  },
  {
   "cell_type": "code",
   "execution_count": 15,
   "metadata": {
    "collapsed": false
   },
   "outputs": [
    {
     "ename": "StopIteration",
     "evalue": "",
     "output_type": "error",
     "traceback": [
      "\u001b[0;31m---------------------------------------------------------------------------\u001b[0m",
      "\u001b[0;31mStopIteration\u001b[0m                             Traceback (most recent call last)",
      "\u001b[0;32m<ipython-input-15-a5daec524df4>\u001b[0m in \u001b[0;36m<module>\u001b[0;34m()\u001b[0m\n\u001b[1;32m      3\u001b[0m \u001b[0;31m# python2: g.next()\u001b[0m\u001b[0;34m\u001b[0m\u001b[0;34m\u001b[0m\u001b[0m\n\u001b[1;32m      4\u001b[0m \u001b[0;31m# python3: g.__next__()\u001b[0m\u001b[0;34m\u001b[0m\u001b[0;34m\u001b[0m\u001b[0m\n\u001b[0;32m----> 5\u001b[0;31m \u001b[0mg\u001b[0m\u001b[0;34m.\u001b[0m\u001b[0m__next__\u001b[0m\u001b[0;34m(\u001b[0m\u001b[0;34m)\u001b[0m \u001b[0;31m# si le generator a été complètement itéré, next() raise une exception StopIteration\u001b[0m\u001b[0;34m\u001b[0m\u001b[0m\n\u001b[0m",
      "\u001b[0;31mStopIteration\u001b[0m: "
     ]
    }
   ],
   "source": [
    "# Pour passer au prochain élément on utilise la fonction next() en python3\n",
    "# les objets generator ont aussi une fonction next():\n",
    "# python2: g.next()\n",
    "# python3: g.__next__()\n",
    "\n",
    "next(g) # si le generator a été complètement itéré, next() / .next() / __next__() raise une exception StopIteration"
   ]
  },
  {
   "cell_type": "code",
   "execution_count": 43,
   "metadata": {
    "collapsed": false
   },
   "outputs": [
    {
     "data": {
      "text/plain": [
       "'fini'"
      ]
     },
     "execution_count": 43,
     "metadata": {},
     "output_type": "execute_result"
    }
   ],
   "source": [
    "# On peut passer une valeur par défaut dans le cas où le generator est complètement itéré\n",
    "next(g, 'fini')"
   ]
  },
  {
   "cell_type": "code",
   "execution_count": 29,
   "metadata": {
    "collapsed": false
   },
   "outputs": [
    {
     "name": "stdout",
     "output_type": "stream",
     "text": [
      "[0, 1, 2]\n"
     ]
    }
   ],
   "source": [
    "# Itérer uniquement sur n élément d'un generator\n",
    "\n",
    "# exemple d'infinite generator\n",
    "def infinite_generator():\n",
    "    n = 0\n",
    "    while True:\n",
    "        yield n\n",
    "        n = n + 1\n",
    "\n",
    "# on ne veut que les 3 premiers éléments\n",
    "g = infinite_generator()\n",
    "new_g = (next(g) for _ in range(3)) \n",
    "print(list(new_g))"
   ]
  },
  {
   "cell_type": "code",
   "execution_count": 31,
   "metadata": {
    "collapsed": false
   },
   "outputs": [
    {
     "name": "stdout",
     "output_type": "stream",
     "text": [
      "0 : 0\n",
      "1 : 1\n",
      "2 : 2\n",
      "3 : 3\n"
     ]
    }
   ],
   "source": [
    "# Il est possible d'utiliser enumerate() pour obtenir l'index et l'élément itéré\n",
    "# Si le generator est infini, ne pas oublier la condition d'arrêt avec un break\n",
    "g = infinite_generator()\n",
    "for index, element in enumerate(g):\n",
    "    print(index, ':', element)\n",
    "    if index == 3:\n",
    "        break"
   ]
  },
  {
   "cell_type": "code",
   "execution_count": 36,
   "metadata": {
    "collapsed": false
   },
   "outputs": [
    {
     "data": {
      "text/plain": [
       "3"
      ]
     },
     "execution_count": 36,
     "metadata": {},
     "output_type": "execute_result"
    }
   ],
   "source": [
    "# On peut envoyer des données au generator pour calculer le prochain élément\n",
    "def accumulator():\n",
    "    total = 0\n",
    "    value = None\n",
    "    while True:\n",
    "        value = yield total\n",
    "        if value is None: break\n",
    "        total = total + value\n",
    "\n",
    "g = accumulator()        \n",
    "\n",
    "# on va jusqu'au premier yield (total et value sont initialisées)\n",
    "next(g)       # yield total => retourne la valeur de total, 0\n",
    "g.send(1)     # affecte 1 au yield, qui est donc stocké dans value.\n",
    "              # continue jusqu'au prochain yield, la valeur de total est 0 + 1 = 1\n",
    "g.send(2)     # value récupère la valeur 2, continue jusqu'au prochain yield qui retourne 1 + 2 = 3\n",
    "\n",
    "# on arrête en envoyant None à yield\n",
    "g.send(None) # est équivalent à next(g) car next() agit comme send(None)"
   ]
  },
  {
   "cell_type": "code",
   "execution_count": 42,
   "metadata": {
    "collapsed": false
   },
   "outputs": [
    {
     "name": "stdout",
     "output_type": "stream",
     "text": [
      "0\n",
      "1\n",
      "2\n",
      "après premier\n",
      "3\n",
      "4\n",
      "5\n",
      "après second\n"
     ]
    }
   ],
   "source": [
    "# yield from permet de retreive tous les éléments d'un iterable / generator\n",
    "def yield_all():\n",
    "    yield from range(0,3)\n",
    "    print('après premier')\n",
    "    yield from range(3,6)\n",
    "    print('après second')\n",
    "    \n",
    "g = yield_all()\n",
    "for x in g:\n",
    "    print(x)"
   ]
  },
  {
   "cell_type": "code",
   "execution_count": null,
   "metadata": {
    "collapsed": true
   },
   "outputs": [],
   "source": []
  }
 ],
 "metadata": {
  "kernelspec": {
   "display_name": "Python 3",
   "language": "python",
   "name": "python3"
  },
  "language_info": {
   "codemirror_mode": {
    "name": "ipython",
    "version": 3
   },
   "file_extension": ".py",
   "mimetype": "text/x-python",
   "name": "python",
   "nbconvert_exporter": "python",
   "pygments_lexer": "ipython3",
   "version": "3.5.1"
  }
 },
 "nbformat": 4,
 "nbformat_minor": 2
}
