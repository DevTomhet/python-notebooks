{
 "cells": [
  {
   "cell_type": "code",
   "execution_count": 34,
   "metadata": {
    "collapsed": true
   },
   "outputs": [],
   "source": [
    "from pytz import timezone\n",
    "import pytz\n",
    "from datetime import datetime"
   ]
  },
  {
   "cell_type": "code",
   "execution_count": 58,
   "metadata": {
    "collapsed": false
   },
   "outputs": [],
   "source": [
    "# retourne un objet de type tzinfo\n",
    "paris = timezone('Europe/Paris')\n",
    "eastern = timezone('US/Eastern')"
   ]
  },
  {
   "cell_type": "code",
   "execution_count": 47,
   "metadata": {
    "collapsed": false
   },
   "outputs": [],
   "source": [
    "fmt = '%Y-%m-%d %H:%M:%S %Z%z'\n",
    "now = datetime.now()\n",
    "utc_now = datetime.utcnow()\n",
    "before_0200 = datetime(2016, 12, 1, 6)"
   ]
  },
  {
   "cell_type": "code",
   "execution_count": 48,
   "metadata": {
    "collapsed": false
   },
   "outputs": [
    {
     "name": "stdout",
     "output_type": "stream",
     "text": [
      "2017-04-06 11:13:06  (heure locale)\n",
      "2017-04-06 09:13:06  (heure UTC+0000)\n",
      "2017-04-06 11:13:06 CEST+0200 (heure avec info sur la timezone)\n",
      "2016-12-01 06:00:00 CET+0100 (ça reconnait bien la tz de l'époque)\n",
      "2017-04-06 11:13:06 LMT+0009 (erreur)\n",
      "2017-04-06 09:13:06 UTC+0000 (timezone mise à UTC+0000)\n"
     ]
    }
   ],
   "source": [
    "# timezone ignorant, le temps est celui de la machine\n",
    "# il n'y a pas d'info sur le TZ dans cet objet\n",
    "print(now.strftime(fmt), '(heure locale)')\n",
    "\n",
    "# datetime actuel à UTC+0000\n",
    "print(utc_now.strftime(fmt), '(heure UTC+0000)')\n",
    "\n",
    "# ajoute la timezone paris à l'objet datetime passé à localize\n",
    "paris_dt = paris.localize(now)\n",
    "print(paris_dt.strftime(fmt), '(heure avec info sur la timezone)')\n",
    "\n",
    "# on set la timezone paris à une date qui était en UTC+01:00 à l'époque (maintenant UTC+02:00)\n",
    "paris_before_0200 = paris.localize(before_0200)\n",
    "print(paris_before_0200.strftime(fmt), '(ça reconnait bien la tz de l\\'époque)')\n",
    "\n",
    "# utiliser tzinfo= ne marche pas !!!!\n",
    "print(now.replace(tzinfo=paris).strftime(fmt), '(erreur)')\n",
    "\n",
    "# converti un datetime contenant déjà une TZ à l'heure UTC+0000\n",
    "# astimezone ne s'utilise que sur un objet ayant une timezone\n",
    "print(paris_dt.astimezone(pytz.utc).strftime(fmt), '(timezone mise à UTC+0000)')"
   ]
  },
  {
   "cell_type": "code",
   "execution_count": 49,
   "metadata": {
    "collapsed": false
   },
   "outputs": [
    {
     "name": "stdout",
     "output_type": "stream",
     "text": [
      "2017-04-06 11:13:06 CEST+0200 (is_dst = True)\n",
      "2017-04-06 11:13:06 CEST+0200 (is_dst = False)\n",
      "2017-04-06 11:13:06 CEST+0200 (is_dst = None)\n"
     ]
    }
   ],
   "source": [
    "paris_dt = paris.localize(now, is_dst=True)\n",
    "print(paris_dt.strftime(fmt), '(is_dst = True)')\n",
    "\n",
    "paris_dt = paris.localize(now, is_dst=False)\n",
    "print(paris_dt.strftime(fmt), '(is_dst = False)')\n",
    "\n",
    "paris_dt = paris.localize(now, is_dst=None)\n",
    "print(paris_dt.strftime(fmt), '(is_dst = None)')"
   ]
  },
  {
   "cell_type": "code",
   "execution_count": 117,
   "metadata": {
    "collapsed": false
   },
   "outputs": [
    {
     "name": "stdout",
     "output_type": "stream",
     "text": [
      "2016-12-01 06:00:00 CET+0100\n",
      "1480568400.0 +0100\n",
      "{'time_of_day': 6.0, 'day_of_week': 3, 'timestamp': 1480568400, 'timezone': '+01:00', 'utc_iso': '2016-12-01T06:00:00+01:00', 'month_of_year': 12, 'day_of_month': 1}\n",
      "2016-12-01 06:00:00 CET+0100\n",
      "1480546800.0 2016-12-01 00:00:00 CET+0100\n"
     ]
    }
   ],
   "source": [
    "#################################\n",
    "# SOLUTION !!!!!!\n",
    "#################################\n",
    "\n",
    "fmt = '%Y-%m-%d %H:%M:%S %Z%z'\n",
    "paris = timezone('Europe/Paris')\n",
    "\n",
    "# Comment parser les datetime\n",
    "dt = paris.localize(datetime(2016, 12, 1, 6))\n",
    "print(dt.strftime(fmt))\n",
    "\n",
    "# le timestamp et la timezone à envoyer à craft\n",
    "print(dt.timestamp(), dt.strftime('%z'))\n",
    "\n",
    "# ce qu'on récupère comme timestamp dans la liste de contextes\n",
    "sample_time = Time(int(dt.timestamp()), timezone=paris)\n",
    "print(sample_time.to_dict())\n",
    "\n",
    "# ou si l'on veut l'objet datetime python depuis le timestamp\n",
    "# si on ne fait pas ça, on a un object datetime sans timezone...\n",
    "dt_from_ts = paris.localize(datetime.fromtimestamp(dt.timestamp()))\n",
    "print(dt_from_ts.strftime(fmt))\n",
    "\n",
    "# le timestamp à envoyer pour récupérer l'arbre\n",
    "tree_dt = dt.replace(hour=0, minute=0, second=0)\n",
    "print(tree_dt.timestamp(), tree_dt.strftime(fmt))"
   ]
  },
  {
   "cell_type": "code",
   "execution_count": 141,
   "metadata": {
    "collapsed": false
   },
   "outputs": [
    {
     "data": {
      "text/plain": [
       "True"
      ]
     },
     "execution_count": 141,
     "metadata": {},
     "output_type": "execute_result"
    }
   ],
   "source": [
    "paris.localize(datetime.now()).strftime(fmt)\n",
    "datetime.now().date() > datetime(2016, 1, 12).date()"
   ]
  },
  {
   "cell_type": "code",
   "execution_count": 136,
   "metadata": {
    "collapsed": false
   },
   "outputs": [
    {
     "name": "stdout",
     "output_type": "stream",
     "text": [
      "+0100\n",
      "<class 'pandas.tslib.Timestamp'>\n",
      "<class 'datetime.datetime'>\n",
      "\n"
     ]
    }
   ],
   "source": [
    "import pandas as pd\n",
    "from datetime import datetime\n",
    "import pytz\n",
    "\n",
    "paris = pytz.timezone('Europe/Paris')\n",
    "data = pd.DataFrame()\n",
    "row = pd.Series()\n",
    "dt = paris.localize(datetime(2016, 12, 1, 6))\n",
    "row['datetime'] = dt\n",
    "\n",
    "# la timezone est bien affichée\n",
    "print(row['datetime'].strftime(\"%z\"))\n",
    "\n",
    "data = data.append(row, ignore_index=True)\n",
    "\n",
    "# Mais une fois ajoutée au DataFrame, on a perdu l'information\n",
    "print(type(data.iloc[0]['datetime']))\n",
    "print(type(data.iloc[0]['datetime'].to_pydatetime()))\n",
    "print(data.iloc[0]['datetime'].to_pydatetime().strftime('%z'))\n",
    "\n",
    "# Dans certains cas il peut y avoir une erreur quand on ajoute une colonne \n",
    "# de datetime timezone-aware à un dataframe vide\n",
    "# https://github.com/pandas-dev/pandas/issues/12985"
   ]
  }
 ],
 "metadata": {
  "kernelspec": {
   "display_name": "Python 3",
   "language": "python",
   "name": "python3"
  },
  "language_info": {
   "codemirror_mode": {
    "name": "ipython",
    "version": 3
   },
   "file_extension": ".py",
   "mimetype": "text/x-python",
   "name": "python",
   "nbconvert_exporter": "python",
   "pygments_lexer": "ipython3",
   "version": "3.5.1"
  }
 },
 "nbformat": 4,
 "nbformat_minor": 2
}
